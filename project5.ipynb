{
 "cells": [
  {
   "cell_type": "code",
   "execution_count": 1,
   "id": "6352024a",
   "metadata": {},
   "outputs": [
    {
     "name": "stderr",
     "output_type": "stream",
     "text": [
      "2022-06-11 12:13:43.808 INFO    numexpr.utils: NumExpr defaulting to 4 threads.\n",
      "2022-06-11 12:13:48.050 \n",
      "  \u001b[33m\u001b[1mWarning:\u001b[0m to view this Streamlit app on a browser, run it with the following\n",
      "  command:\n",
      "\n",
      "    streamlit run /Users/davidpitoun/opt/anaconda3/lib/python3.9/site-packages/ipykernel_launcher.py [ARGUMENTS]\n"
     ]
    }
   ],
   "source": [
    "import streamlit as st\n",
    "\n",
    "import pandas as pd\n",
    "import numpy as np\n",
    "\n",
    "import matplotlib.pyplot as plt\n",
    "\n",
    "from sklearn import datasets\n",
    "\n",
    "pd.set_option(\"display.max_columns\", 50)\n",
    "\n",
    "\n",
    "\n",
    "#Set title\n",
    "st.markdown('Streamlit is **_really_ cool**.')\n",
    "st.title(\"HR- Target Employees\")\n",
    "\n",
    "#layout\n",
    "\n",
    "container1 = st.container()\n",
    "col1, col2 = st.columns(2)\n",
    "\n",
    "#Load data\n",
    "st.write(pd.read_csv(r'/Users/davidpitoun/All_Ironhack/project5/HR_Data_target.xlsx - aug_test.csv'))\n"
   ]
  },
  {
   "cell_type": "code",
   "execution_count": null,
   "id": "5e64c4d7",
   "metadata": {},
   "outputs": [],
   "source": []
  }
 ],
 "metadata": {
  "kernelspec": {
   "display_name": "Python 3 (ipykernel)",
   "language": "python",
   "name": "python3"
  },
  "language_info": {
   "codemirror_mode": {
    "name": "ipython",
    "version": 3
   },
   "file_extension": ".py",
   "mimetype": "text/x-python",
   "name": "python",
   "nbconvert_exporter": "python",
   "pygments_lexer": "ipython3",
   "version": "3.9.12"
  }
 },
 "nbformat": 4,
 "nbformat_minor": 5
}
